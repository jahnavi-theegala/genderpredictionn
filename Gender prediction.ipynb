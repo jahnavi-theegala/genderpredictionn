{
 "cells": [
  {
   "cell_type": "code",
   "execution_count": 53,
   "id": "e330b58a",
   "metadata": {},
   "outputs": [],
   "source": [
    "import numpy as np\n",
    "import pandas as pd\n",
    "import matplotlib.pyplot as plt"
   ]
  },
  {
   "cell_type": "code",
   "execution_count": 54,
   "id": "aa77f713",
   "metadata": {},
   "outputs": [],
   "source": [
    "df = pd.read_csv(\"C:\\\\Users\\\\Jahna\\\\Desktop\\\\ML1\\\\voice.csv\")"
   ]
  },
  {
   "cell_type": "code",
   "execution_count": 55,
   "id": "be060ada",
   "metadata": {},
   "outputs": [
    {
     "data": {
      "text/html": [
       "<div>\n",
       "<style scoped>\n",
       "    .dataframe tbody tr th:only-of-type {\n",
       "        vertical-align: middle;\n",
       "    }\n",
       "\n",
       "    .dataframe tbody tr th {\n",
       "        vertical-align: top;\n",
       "    }\n",
       "\n",
       "    .dataframe thead th {\n",
       "        text-align: right;\n",
       "    }\n",
       "</style>\n",
       "<table border=\"1\" class=\"dataframe\">\n",
       "  <thead>\n",
       "    <tr style=\"text-align: right;\">\n",
       "      <th></th>\n",
       "      <th>meanfreq</th>\n",
       "      <th>sd</th>\n",
       "      <th>median</th>\n",
       "      <th>Q25</th>\n",
       "      <th>Q75</th>\n",
       "      <th>IQR</th>\n",
       "      <th>skew</th>\n",
       "      <th>kurt</th>\n",
       "      <th>sp.ent</th>\n",
       "      <th>sfm</th>\n",
       "      <th>...</th>\n",
       "      <th>centroid</th>\n",
       "      <th>meanfun</th>\n",
       "      <th>minfun</th>\n",
       "      <th>maxfun</th>\n",
       "      <th>meandom</th>\n",
       "      <th>mindom</th>\n",
       "      <th>maxdom</th>\n",
       "      <th>dfrange</th>\n",
       "      <th>modindx</th>\n",
       "      <th>label</th>\n",
       "    </tr>\n",
       "  </thead>\n",
       "  <tbody>\n",
       "    <tr>\n",
       "      <th>0</th>\n",
       "      <td>0.059781</td>\n",
       "      <td>0.064241</td>\n",
       "      <td>0.032027</td>\n",
       "      <td>0.015071</td>\n",
       "      <td>0.090193</td>\n",
       "      <td>0.075122</td>\n",
       "      <td>12.863462</td>\n",
       "      <td>274.402905</td>\n",
       "      <td>0.893369</td>\n",
       "      <td>0.491918</td>\n",
       "      <td>...</td>\n",
       "      <td>0.059781</td>\n",
       "      <td>0.084279</td>\n",
       "      <td>0.015702</td>\n",
       "      <td>0.275862</td>\n",
       "      <td>0.007812</td>\n",
       "      <td>0.007812</td>\n",
       "      <td>0.007812</td>\n",
       "      <td>0.000000</td>\n",
       "      <td>0.000000</td>\n",
       "      <td>male</td>\n",
       "    </tr>\n",
       "    <tr>\n",
       "      <th>1</th>\n",
       "      <td>0.066009</td>\n",
       "      <td>0.067310</td>\n",
       "      <td>0.040229</td>\n",
       "      <td>0.019414</td>\n",
       "      <td>0.092666</td>\n",
       "      <td>0.073252</td>\n",
       "      <td>22.423285</td>\n",
       "      <td>634.613855</td>\n",
       "      <td>0.892193</td>\n",
       "      <td>0.513724</td>\n",
       "      <td>...</td>\n",
       "      <td>0.066009</td>\n",
       "      <td>0.107937</td>\n",
       "      <td>0.015826</td>\n",
       "      <td>0.250000</td>\n",
       "      <td>0.009014</td>\n",
       "      <td>0.007812</td>\n",
       "      <td>0.054688</td>\n",
       "      <td>0.046875</td>\n",
       "      <td>0.052632</td>\n",
       "      <td>male</td>\n",
       "    </tr>\n",
       "    <tr>\n",
       "      <th>2</th>\n",
       "      <td>0.077316</td>\n",
       "      <td>0.083829</td>\n",
       "      <td>0.036718</td>\n",
       "      <td>0.008701</td>\n",
       "      <td>0.131908</td>\n",
       "      <td>0.123207</td>\n",
       "      <td>30.757155</td>\n",
       "      <td>1024.927705</td>\n",
       "      <td>0.846389</td>\n",
       "      <td>0.478905</td>\n",
       "      <td>...</td>\n",
       "      <td>0.077316</td>\n",
       "      <td>0.098706</td>\n",
       "      <td>0.015656</td>\n",
       "      <td>0.271186</td>\n",
       "      <td>0.007990</td>\n",
       "      <td>0.007812</td>\n",
       "      <td>0.015625</td>\n",
       "      <td>0.007812</td>\n",
       "      <td>0.046512</td>\n",
       "      <td>male</td>\n",
       "    </tr>\n",
       "    <tr>\n",
       "      <th>3</th>\n",
       "      <td>0.151228</td>\n",
       "      <td>0.072111</td>\n",
       "      <td>0.158011</td>\n",
       "      <td>0.096582</td>\n",
       "      <td>0.207955</td>\n",
       "      <td>0.111374</td>\n",
       "      <td>1.232831</td>\n",
       "      <td>4.177296</td>\n",
       "      <td>0.963322</td>\n",
       "      <td>0.727232</td>\n",
       "      <td>...</td>\n",
       "      <td>0.151228</td>\n",
       "      <td>0.088965</td>\n",
       "      <td>0.017798</td>\n",
       "      <td>0.250000</td>\n",
       "      <td>0.201497</td>\n",
       "      <td>0.007812</td>\n",
       "      <td>0.562500</td>\n",
       "      <td>0.554688</td>\n",
       "      <td>0.247119</td>\n",
       "      <td>male</td>\n",
       "    </tr>\n",
       "    <tr>\n",
       "      <th>4</th>\n",
       "      <td>0.135120</td>\n",
       "      <td>0.079146</td>\n",
       "      <td>0.124656</td>\n",
       "      <td>0.078720</td>\n",
       "      <td>0.206045</td>\n",
       "      <td>0.127325</td>\n",
       "      <td>1.101174</td>\n",
       "      <td>4.333713</td>\n",
       "      <td>0.971955</td>\n",
       "      <td>0.783568</td>\n",
       "      <td>...</td>\n",
       "      <td>0.135120</td>\n",
       "      <td>0.106398</td>\n",
       "      <td>0.016931</td>\n",
       "      <td>0.266667</td>\n",
       "      <td>0.712812</td>\n",
       "      <td>0.007812</td>\n",
       "      <td>5.484375</td>\n",
       "      <td>5.476562</td>\n",
       "      <td>0.208274</td>\n",
       "      <td>male</td>\n",
       "    </tr>\n",
       "  </tbody>\n",
       "</table>\n",
       "<p>5 rows × 21 columns</p>\n",
       "</div>"
      ],
      "text/plain": [
       "   meanfreq        sd    median       Q25       Q75       IQR       skew  \\\n",
       "0  0.059781  0.064241  0.032027  0.015071  0.090193  0.075122  12.863462   \n",
       "1  0.066009  0.067310  0.040229  0.019414  0.092666  0.073252  22.423285   \n",
       "2  0.077316  0.083829  0.036718  0.008701  0.131908  0.123207  30.757155   \n",
       "3  0.151228  0.072111  0.158011  0.096582  0.207955  0.111374   1.232831   \n",
       "4  0.135120  0.079146  0.124656  0.078720  0.206045  0.127325   1.101174   \n",
       "\n",
       "          kurt    sp.ent       sfm  ...  centroid   meanfun    minfun  \\\n",
       "0   274.402905  0.893369  0.491918  ...  0.059781  0.084279  0.015702   \n",
       "1   634.613855  0.892193  0.513724  ...  0.066009  0.107937  0.015826   \n",
       "2  1024.927705  0.846389  0.478905  ...  0.077316  0.098706  0.015656   \n",
       "3     4.177296  0.963322  0.727232  ...  0.151228  0.088965  0.017798   \n",
       "4     4.333713  0.971955  0.783568  ...  0.135120  0.106398  0.016931   \n",
       "\n",
       "     maxfun   meandom    mindom    maxdom   dfrange   modindx  label  \n",
       "0  0.275862  0.007812  0.007812  0.007812  0.000000  0.000000   male  \n",
       "1  0.250000  0.009014  0.007812  0.054688  0.046875  0.052632   male  \n",
       "2  0.271186  0.007990  0.007812  0.015625  0.007812  0.046512   male  \n",
       "3  0.250000  0.201497  0.007812  0.562500  0.554688  0.247119   male  \n",
       "4  0.266667  0.712812  0.007812  5.484375  5.476562  0.208274   male  \n",
       "\n",
       "[5 rows x 21 columns]"
      ]
     },
     "execution_count": 55,
     "metadata": {},
     "output_type": "execute_result"
    }
   ],
   "source": [
    "df.head()"
   ]
  },
  {
   "cell_type": "code",
   "execution_count": 56,
   "id": "de009524",
   "metadata": {},
   "outputs": [
    {
     "data": {
      "text/plain": [
       "(3168, 21)"
      ]
     },
     "execution_count": 56,
     "metadata": {},
     "output_type": "execute_result"
    }
   ],
   "source": [
    "df.shape"
   ]
  },
  {
   "cell_type": "code",
   "execution_count": 57,
   "id": "c2723625",
   "metadata": {},
   "outputs": [
    {
     "data": {
      "text/plain": [
       "meanfreq    0\n",
       "sd          0\n",
       "median      0\n",
       "Q25         0\n",
       "Q75         0\n",
       "IQR         0\n",
       "skew        0\n",
       "kurt        0\n",
       "sp.ent      0\n",
       "sfm         0\n",
       "mode        0\n",
       "centroid    0\n",
       "meanfun     0\n",
       "minfun      0\n",
       "maxfun      0\n",
       "meandom     0\n",
       "mindom      0\n",
       "maxdom      0\n",
       "dfrange     0\n",
       "modindx     0\n",
       "label       0\n",
       "dtype: int64"
      ]
     },
     "execution_count": 57,
     "metadata": {},
     "output_type": "execute_result"
    }
   ],
   "source": [
    "df.isnull().sum()"
   ]
  },
  {
   "cell_type": "code",
   "execution_count": 66,
   "id": "626aea4b",
   "metadata": {},
   "outputs": [
    {
     "data": {
      "text/plain": [
       "male      1584\n",
       "female    1584\n",
       "Name: label, dtype: int64"
      ]
     },
     "execution_count": 66,
     "metadata": {},
     "output_type": "execute_result"
    }
   ],
   "source": [
    "df['label'].value_counts()"
   ]
  },
  {
   "cell_type": "code",
   "execution_count": 58,
   "id": "e072fe77",
   "metadata": {},
   "outputs": [],
   "source": [
    "label1 = df.label.value_counts().index\n",
    "count = df.label.value_counts().values"
   ]
  },
  {
   "cell_type": "code",
   "execution_count": 65,
   "id": "62fcc3ff",
   "metadata": {},
   "outputs": [
    {
     "data": {
      "image/png": "[encoded data removed]",
      "text/plain": [
       "<Figure size 360x720 with 1 Axes>"
      ]
     },
     "metadata": {},
     "output_type": "display_data"
    }
   ],
   "source": [
    "#Depict percentage distribution of label on a pie chart\n",
    "color=['r','g']\n",
    "explode = (0,0.1)\n",
    "plt.figure(1,figsize=(5,10))\n",
    "plt.pie(count,labels=label1,colors=color,autopct='%1.1f%%')\n",
    "plt.title(\"gender\")\n",
    "plt.legend()\n",
    "plt.show()"
   ]
  },
  {
   "cell_type": "code",
   "execution_count": 22,
   "id": "7139e263",
   "metadata": {},
   "outputs": [],
   "source": [
    "from sklearn.preprocessing import LabelEncoder"
   ]
  },
  {
   "cell_type": "code",
   "execution_count": 23,
   "id": "7a5e4cff",
   "metadata": {},
   "outputs": [],
   "source": [
    "lb=LabelEncoder()"
   ]
  },
  {
   "cell_type": "code",
   "execution_count": 24,
   "id": "9f667702",
   "metadata": {},
   "outputs": [],
   "source": [
    "df['label']=lb.fit_transform(df['label'])"
   ]
  },
  {
   "cell_type": "code",
   "execution_count": 25,
   "id": "0a3aa198",
   "metadata": {},
   "outputs": [
    {
     "data": {
      "text/plain": [
       "meanfreq    float64\n",
       "sd          float64\n",
       "median      float64\n",
       "Q25         float64\n",
       "Q75         float64\n",
       "IQR         float64\n",
       "skew        float64\n",
       "kurt        float64\n",
       "sp.ent      float64\n",
       "sfm         float64\n",
       "mode        float64\n",
       "centroid    float64\n",
       "meanfun     float64\n",
       "minfun      float64\n",
       "maxfun      float64\n",
       "meandom     float64\n",
       "mindom      float64\n",
       "maxdom      float64\n",
       "dfrange     float64\n",
       "modindx     float64\n",
       "label         int32\n",
       "dtype: object"
      ]
     },
     "execution_count": 25,
     "metadata": {},
     "output_type": "execute_result"
    }
   ],
   "source": [
    "df.dtypes"
   ]
  },
  {
   "cell_type": "code",
   "execution_count": 26,
   "id": "2dbb8f15",
   "metadata": {},
   "outputs": [
    {
     "data": {
      "text/plain": [
       "Index(['meanfreq', 'sd', 'median', 'Q25', 'Q75', 'IQR', 'skew', 'kurt',\n",
       "       'sp.ent', 'sfm', 'mode', 'centroid', 'meanfun', 'minfun', 'maxfun',\n",
       "       'meandom', 'mindom', 'maxdom', 'dfrange', 'modindx', 'label'],\n",
       "      dtype='object')"
      ]
     },
     "execution_count": 26,
     "metadata": {},
     "output_type": "execute_result"
    }
   ],
   "source": [
    "df.columns"
   ]
  },
  {
   "cell_type": "code",
   "execution_count": 44,
   "id": "5e6c0ef4",
   "metadata": {},
   "outputs": [
    {
     "data": {
      "text/plain": [
       "1    1584\n",
       "0    1584\n",
       "Name: label, dtype: int64"
      ]
     },
     "execution_count": 44,
     "metadata": {},
     "output_type": "execute_result"
    }
   ],
   "source": [
    "r1 = df['label'].value_counts()\n",
    "r1"
   ]
  },
  {
   "cell_type": "code",
   "execution_count": null,
   "id": "1ee8e215",
   "metadata": {},
   "outputs": [],
   "source": []
  },
  {
   "cell_type": "code",
   "execution_count": null,
   "id": "e74267e1",
   "metadata": {},
   "outputs": [],
   "source": []
  },
  {
   "cell_type": "code",
   "execution_count": 27,
   "id": "a9d8902a",
   "metadata": {},
   "outputs": [
    {
     "name": "stdout",
     "output_type": "stream",
     "text": [
      "<class 'pandas.core.frame.DataFrame'>\n",
      "<class 'pandas.core.series.Series'>\n",
      "(3168, 21)\n",
      "(3168,)\n"
     ]
    }
   ],
   "source": [
    "x = df.iloc[:]\n",
    "y = df['label']\n",
    "print(type(x))\n",
    "print(type(y))\n",
    "print(x.shape)\n",
    "print(y.shape)"
   ]
  },
  {
   "cell_type": "code",
   "execution_count": 28,
   "id": "c152a989",
   "metadata": {},
   "outputs": [],
   "source": [
    "from sklearn.model_selection import train_test_split"
   ]
  },
  {
   "cell_type": "code",
   "execution_count": 29,
   "id": "3ec860f4",
   "metadata": {},
   "outputs": [
    {
     "name": "stdout",
     "output_type": "stream",
     "text": [
      "(2376, 21)\n",
      "(792, 21)\n",
      "(2376,)\n",
      "(792,)\n"
     ]
    }
   ],
   "source": [
    "x_train,x_test,y_train,y_test = train_test_split(x,y,test_size=0.25)\n",
    "print(x_train.shape)\n",
    "print(x_test.shape)\n",
    "print(y_train.shape)\n",
    "print(y_test.shape)"
   ]
  },
  {
   "cell_type": "code",
   "execution_count": 30,
   "id": "99745af7",
   "metadata": {},
   "outputs": [],
   "source": [
    "from sklearn.metrics import confusion_matrix,classification_report,accuracy_score"
   ]
  },
  {
   "cell_type": "code",
   "execution_count": 31,
   "id": "435ebd85",
   "metadata": {},
   "outputs": [],
   "source": [
    "def mscore():\n",
    "    print('Model Training Score',model.score(x_train,y_train))\n",
    "    print('Model Testing Score',model.score(x_test,y_test))\n",
    "def gen_metrics(ytest,ypred):\n",
    "    cm=confusion_matrix(ytest,ypred)\n",
    "    print(cm)\n",
    "    print(classification_report(ytest,ypred))   "
   ]
  },
  {
   "cell_type": "code",
   "execution_count": 32,
   "id": "baedadc9",
   "metadata": {},
   "outputs": [],
   "source": [
    "from sklearn.linear_model import LogisticRegression\n",
    "from sklearn.tree import DecisionTreeClassifier\n",
    "from sklearn.ensemble import RandomForestClassifier\n",
    "from sklearn.neighbors import KNeighborsClassifier\n",
    "from sklearn.svm import SVC"
   ]
  },
  {
   "cell_type": "code",
   "execution_count": 33,
   "id": "f9e2a9c0",
   "metadata": {},
   "outputs": [],
   "source": [
    "m1=LogisticRegression(max_iter=1000)\n",
    "m2=DecisionTreeClassifier(criterion='entropy',max_depth=6,min_samples_split=20)\n",
    "m3=RandomForestClassifier(n_estimators=50,criterion='gini',max_depth=6,min_samples_split=15)\n",
    "m4=KNeighborsClassifier(n_neighbors=15)\n",
    "m5=SVC(kernel='linear',C=1)\n",
    "models=[m1,m2,m3,m4,m5]\n",
    "mnames=['LogReg','DTC','RFC','KNC','SVC']"
   ]
  },
  {
   "cell_type": "code",
   "execution_count": 34,
   "id": "98f6098f",
   "metadata": {},
   "outputs": [],
   "source": [
    "def mscore(model):\n",
    "    print('Model Training Score',model.score(x_train,y_train))\n",
    "    print('Model Testing Score',model.score(x_test,y_test))\n",
    "def gen_metrics(ytest,ypred):\n",
    "    cm=confusion_matrix(ytest,ypred)\n",
    "    print(cm)\n",
    "    print(classification_report(ytest,ypred))   "
   ]
  },
  {
   "cell_type": "code",
   "execution_count": 37,
   "id": "856f9aa9",
   "metadata": {},
   "outputs": [
    {
     "name": "stdout",
     "output_type": "stream",
     "text": [
      "LogReg\n",
      "Model Training Score 1.0\n",
      "Model Testing Score 1.0\n",
      "[0 1 0 0 1 1 0 1 0 0 0 1 1 0 0 1 0 0 1 1 1 0 0 0 0 1 0 0 0 0 0 0 1 0 1 1 1\n",
      " 1 1 0 0 0 1 1 0 1 1 1 0 0 1 0 1 0 1 0 0 1 0 0 0 1 1 0 0 0 0 0 0 1 1 0 1 0\n",
      " 1 0 0 1 0 0 1 0 0 0 0 0 0 0 0 1 0 0 1 1 1 1 1 1 0 0 0 1 1 0 0 0 0 1 0 0 1\n",
      " 0 1 1 0 1 0 1 1 0 1 0 1 1 1 0 0 1 1 0 1 0 0 1 0 0 0 0 0 0 0 1 0 0 0 1 1 0\n",
      " 0 1 0 1 0 0 0 0 0 0 0 1 0 0 1 0 1 1 1 0 1 0 0 0 0 0 0 0 1 0 0 0 0 1 1 1 1\n",
      " 0 1 1 0 0 0 0 1 1 1 0 0 1 1 1 0 1 0 0 0 1 1 0 0 0 1 0 0 0 1 1 1 0 0 1 1 1\n",
      " 0 1 1 0 1 0 0 1 1 0 1 1 1 0 0 0 1 0 0 1 0 1 0 0 1 1 0 0 1 1 1 1 1 1 1 1 1\n",
      " 1 1 1 0 0 0 0 1 1 1 1 0 1 0 1 1 1 1 1 1 0 0 1 1 0 1 1 1 1 1 0 0 0 0 1 0 1\n",
      " 1 0 1 1 1 1 1 1 0 0 1 1 0 1 1 1 1 1 1 1 1 0 0 1 1 0 1 1 1 1 1 0 0 1 1 1 0\n",
      " 0 1 1 0 1 1 0 1 0 0 0 1 0 0 0 1 1 1 1 0 0 1 0 1 0 0 0 0 1 1 0 0 1 1 1 1 1\n",
      " 0 0 0 0 0 1 1 0 1 0 1 1 1 1 1 1 0 0 0 0 0 0 0 1 0 1 1 1 1 1 0 1 0 1 1 0 1\n",
      " 1 0 0 0 0 0 1 1 0 0 0 1 1 0 1 1 0 1 1 1 1 0 1 1 0 1 1 0 0 0 1 0 0 1 1 0 0\n",
      " 1 0 1 1 1 0 0 1 0 1 1 1 0 1 0 1 0 1 0 0 1 1 1 0 0 1 0 0 0 0 0 1 1 0 0 0 0\n",
      " 0 0 0 1 1 0 0 1 1 0 0 0 1 0 1 1 0 0 1 0 1 0 1 1 1 0 0 1 0 1 0 0 1 0 1 0 0\n",
      " 1 0 1 1 1 1 0 1 1 0 0 1 0 0 1 0 1 1 0 0 1 1 1 0 0 0 1 0 0 1 0 1 0 1 0 0 1\n",
      " 0 0 1 1 0 0 0 1 1 0 0 0 1 0 0 1 0 1 0 1 1 0 0 0 0 1 0 1 0 1 1 1 1 1 1 1 0\n",
      " 1 1 0 0 1 1 0 1 0 1 0 0 1 0 1 0 1 1 1 1 1 0 1 1 0 1 1 0 0 1 0 0 0 0 0 0 1\n",
      " 1 0 1 1 1 1 0 0 1 1 1 0 1 0 1 1 1 0 1 1 1 0 1 0 0 1 1 0 1 1 0 0 0 0 1 1 1\n",
      " 0 0 1 1 1 0 0 1 0 1 0 1 0 0 1 1 0 0 1 0 0 1 1 1 0 0 1 0 1 0 1 1 0 0 1 0 1\n",
      " 1 0 0 1 0 0 1 1 1 1 1 1 0 1 1 0 0 1 1 0 0 1 0 1 1 0 0 0 0 0 0 0 1 0 1 1 0\n",
      " 0 1 1 0 1 1 0 0 0 1 0 1 0 0 0 0 0 1 1 0 1 1 1 1 1 0 1 0 1 1 1 0 1 0 1 0 0\n",
      " 0 0 1 1 1 0 1 0 1 1 1 1 0 0 0]\n",
      "[[397   0]\n",
      " [  0 395]]\n",
      "              precision    recall  f1-score   support\n",
      "\n",
      "           0       1.00      1.00      1.00       397\n",
      "           1       1.00      1.00      1.00       395\n",
      "\n",
      "    accuracy                           1.00       792\n",
      "   macro avg       1.00      1.00      1.00       792\n",
      "weighted avg       1.00      1.00      1.00       792\n",
      "\n",
      "**********************************************************************\n",
      "DTC\n",
      "Model Training Score 1.0\n",
      "Model Testing Score 1.0\n",
      "[0 1 0 0 1 1 0 1 0 0 0 1 1 0 0 1 0 0 1 1 1 0 0 0 0 1 0 0 0 0 0 0 1 0 1 1 1\n",
      " 1 1 0 0 0 1 1 0 1 1 1 0 0 1 0 1 0 1 0 0 1 0 0 0 1 1 0 0 0 0 0 0 1 1 0 1 0\n",
      " 1 0 0 1 0 0 1 0 0 0 0 0 0 0 0 1 0 0 1 1 1 1 1 1 0 0 0 1 1 0 0 0 0 1 0 0 1\n",
      " 0 1 1 0 1 0 1 1 0 1 0 1 1 1 0 0 1 1 0 1 0 0 1 0 0 0 0 0 0 0 1 0 0 0 1 1 0\n",
      " 0 1 0 1 0 0 0 0 0 0 0 1 0 0 1 0 1 1 1 0 1 0 0 0 0 0 0 0 1 0 0 0 0 1 1 1 1\n",
      " 0 1 1 0 0 0 0 1 1 1 0 0 1 1 1 0 1 0 0 0 1 1 0 0 0 1 0 0 0 1 1 1 0 0 1 1 1\n",
      " 0 1 1 0 1 0 0 1 1 0 1 1 1 0 0 0 1 0 0 1 0 1 0 0 1 1 0 0 1 1 1 1 1 1 1 1 1\n",
      " 1 1 1 0 0 0 0 1 1 1 1 0 1 0 1 1 1 1 1 1 0 0 1 1 0 1 1 1 1 1 0 0 0 0 1 0 1\n",
      " 1 0 1 1 1 1 1 1 0 0 1 1 0 1 1 1 1 1 1 1 1 0 0 1 1 0 1 1 1 1 1 0 0 1 1 1 0\n",
      " 0 1 1 0 1 1 0 1 0 0 0 1 0 0 0 1 1 1 1 0 0 1 0 1 0 0 0 0 1 1 0 0 1 1 1 1 1\n",
      " 0 0 0 0 0 1 1 0 1 0 1 1 1 1 1 1 0 0 0 0 0 0 0 1 0 1 1 1 1 1 0 1 0 1 1 0 1\n",
      " 1 0 0 0 0 0 1 1 0 0 0 1 1 0 1 1 0 1 1 1 1 0 1 1 0 1 1 0 0 0 1 0 0 1 1 0 0\n",
      " 1 0 1 1 1 0 0 1 0 1 1 1 0 1 0 1 0 1 0 0 1 1 1 0 0 1 0 0 0 0 0 1 1 0 0 0 0\n",
      " 0 0 0 1 1 0 0 1 1 0 0 0 1 0 1 1 0 0 1 0 1 0 1 1 1 0 0 1 0 1 0 0 1 0 1 0 0\n",
      " 1 0 1 1 1 1 0 1 1 0 0 1 0 0 1 0 1 1 0 0 1 1 1 0 0 0 1 0 0 1 0 1 0 1 0 0 1\n",
      " 0 0 1 1 0 0 0 1 1 0 0 0 1 0 0 1 0 1 0 1 1 0 0 0 0 1 0 1 0 1 1 1 1 1 1 1 0\n",
      " 1 1 0 0 1 1 0 1 0 1 0 0 1 0 1 0 1 1 1 1 1 0 1 1 0 1 1 0 0 1 0 0 0 0 0 0 1\n",
      " 1 0 1 1 1 1 0 0 1 1 1 0 1 0 1 1 1 0 1 1 1 0 1 0 0 1 1 0 1 1 0 0 0 0 1 1 1\n",
      " 0 0 1 1 1 0 0 1 0 1 0 1 0 0 1 1 0 0 1 0 0 1 1 1 0 0 1 0 1 0 1 1 0 0 1 0 1\n",
      " 1 0 0 1 0 0 1 1 1 1 1 1 0 1 1 0 0 1 1 0 0 1 0 1 1 0 0 0 0 0 0 0 1 0 1 1 0\n",
      " 0 1 1 0 1 1 0 0 0 1 0 1 0 0 0 0 0 1 1 0 1 1 1 1 1 0 1 0 1 1 1 0 1 0 1 0 0\n",
      " 0 0 1 1 1 0 1 0 1 1 1 1 0 0 0]\n",
      "[[397   0]\n",
      " [  0 395]]\n",
      "              precision    recall  f1-score   support\n",
      "\n",
      "           0       1.00      1.00      1.00       397\n",
      "           1       1.00      1.00      1.00       395\n",
      "\n",
      "    accuracy                           1.00       792\n",
      "   macro avg       1.00      1.00      1.00       792\n",
      "weighted avg       1.00      1.00      1.00       792\n",
      "\n",
      "**********************************************************************\n",
      "RFC\n",
      "Model Training Score 1.0\n",
      "Model Testing Score 1.0\n",
      "[0 1 0 0 1 1 0 1 0 0 0 1 1 0 0 1 0 0 1 1 1 0 0 0 0 1 0 0 0 0 0 0 1 0 1 1 1\n",
      " 1 1 0 0 0 1 1 0 1 1 1 0 0 1 0 1 0 1 0 0 1 0 0 0 1 1 0 0 0 0 0 0 1 1 0 1 0\n",
      " 1 0 0 1 0 0 1 0 0 0 0 0 0 0 0 1 0 0 1 1 1 1 1 1 0 0 0 1 1 0 0 0 0 1 0 0 1\n",
      " 0 1 1 0 1 0 1 1 0 1 0 1 1 1 0 0 1 1 0 1 0 0 1 0 0 0 0 0 0 0 1 0 0 0 1 1 0\n",
      " 0 1 0 1 0 0 0 0 0 0 0 1 0 0 1 0 1 1 1 0 1 0 0 0 0 0 0 0 1 0 0 0 0 1 1 1 1\n",
      " 0 1 1 0 0 0 0 1 1 1 0 0 1 1 1 0 1 0 0 0 1 1 0 0 0 1 0 0 0 1 1 1 0 0 1 1 1\n",
      " 0 1 1 0 1 0 0 1 1 0 1 1 1 0 0 0 1 0 0 1 0 1 0 0 1 1 0 0 1 1 1 1 1 1 1 1 1\n",
      " 1 1 1 0 0 0 0 1 1 1 1 0 1 0 1 1 1 1 1 1 0 0 1 1 0 1 1 1 1 1 0 0 0 0 1 0 1\n",
      " 1 0 1 1 1 1 1 1 0 0 1 1 0 1 1 1 1 1 1 1 1 0 0 1 1 0 1 1 1 1 1 0 0 1 1 1 0\n",
      " 0 1 1 0 1 1 0 1 0 0 0 1 0 0 0 1 1 1 1 0 0 1 0 1 0 0 0 0 1 1 0 0 1 1 1 1 1\n",
      " 0 0 0 0 0 1 1 0 1 0 1 1 1 1 1 1 0 0 0 0 0 0 0 1 0 1 1 1 1 1 0 1 0 1 1 0 1\n",
      " 1 0 0 0 0 0 1 1 0 0 0 1 1 0 1 1 0 1 1 1 1 0 1 1 0 1 1 0 0 0 1 0 0 1 1 0 0\n",
      " 1 0 1 1 1 0 0 1 0 1 1 1 0 1 0 1 0 1 0 0 1 1 1 0 0 1 0 0 0 0 0 1 1 0 0 0 0\n",
      " 0 0 0 1 1 0 0 1 1 0 0 0 1 0 1 1 0 0 1 0 1 0 1 1 1 0 0 1 0 1 0 0 1 0 1 0 0\n",
      " 1 0 1 1 1 1 0 1 1 0 0 1 0 0 1 0 1 1 0 0 1 1 1 0 0 0 1 0 0 1 0 1 0 1 0 0 1\n",
      " 0 0 1 1 0 0 0 1 1 0 0 0 1 0 0 1 0 1 0 1 1 0 0 0 0 1 0 1 0 1 1 1 1 1 1 1 0\n",
      " 1 1 0 0 1 1 0 1 0 1 0 0 1 0 1 0 1 1 1 1 1 0 1 1 0 1 1 0 0 1 0 0 0 0 0 0 1\n",
      " 1 0 1 1 1 1 0 0 1 1 1 0 1 0 1 1 1 0 1 1 1 0 1 0 0 1 1 0 1 1 0 0 0 0 1 1 1\n",
      " 0 0 1 1 1 0 0 1 0 1 0 1 0 0 1 1 0 0 1 0 0 1 1 1 0 0 1 0 1 0 1 1 0 0 1 0 1\n",
      " 1 0 0 1 0 0 1 1 1 1 1 1 0 1 1 0 0 1 1 0 0 1 0 1 1 0 0 0 0 0 0 0 1 0 1 1 0\n",
      " 0 1 1 0 1 1 0 0 0 1 0 1 0 0 0 0 0 1 1 0 1 1 1 1 1 0 1 0 1 1 1 0 1 0 1 0 0\n",
      " 0 0 1 1 1 0 1 0 1 1 1 1 0 0 0]\n",
      "[[397   0]\n",
      " [  0 395]]\n",
      "              precision    recall  f1-score   support\n",
      "\n",
      "           0       1.00      1.00      1.00       397\n",
      "           1       1.00      1.00      1.00       395\n",
      "\n",
      "    accuracy                           1.00       792\n",
      "   macro avg       1.00      1.00      1.00       792\n",
      "weighted avg       1.00      1.00      1.00       792\n",
      "\n",
      "**********************************************************************\n",
      "KNC\n",
      "Model Training Score 0.9368686868686869\n",
      "Model Testing Score 0.9393939393939394\n",
      "[0 0 1 0 1 1 0 0 0 0 0 1 1 0 0 1 0 0 1 1 1 0 0 0 0 0 0 0 0 0 0 0 1 0 1 1 1\n",
      " 1 1 0 0 0 1 1 0 0 1 1 0 0 1 0 0 0 1 0 0 1 0 0 0 1 1 0 0 0 0 0 0 1 1 0 1 0\n",
      " 1 0 0 1 0 0 1 0 0 0 0 0 0 1 0 1 0 0 1 1 1 1 1 1 0 0 0 1 1 0 0 0 0 1 0 0 1\n",
      " 0 1 1 0 1 0 1 1 0 1 0 1 1 1 0 0 1 1 0 1 0 1 1 0 0 0 0 0 0 0 1 0 0 0 1 1 0\n",
      " 0 0 0 1 0 0 0 0 0 0 0 1 0 0 1 0 1 1 1 0 1 0 0 0 0 0 0 0 1 0 0 0 0 1 1 1 1\n",
      " 0 1 1 0 0 0 0 1 1 1 0 0 1 1 1 0 1 0 0 0 1 1 0 0 1 0 0 0 0 1 1 1 0 0 1 1 1\n",
      " 0 1 1 0 1 0 0 1 1 0 1 1 1 0 0 0 1 0 0 0 0 0 0 0 1 1 0 0 1 1 1 1 1 1 1 1 1\n",
      " 1 1 1 0 0 0 0 1 1 1 1 0 1 0 1 0 0 1 1 0 0 0 1 1 0 1 1 0 1 0 0 0 1 0 1 0 1\n",
      " 1 0 1 1 1 1 1 0 0 0 0 1 0 1 1 0 1 1 1 1 1 0 0 0 1 0 0 1 1 1 0 0 0 1 1 1 0\n",
      " 0 1 1 0 0 1 0 1 0 0 0 1 0 0 0 1 1 1 1 0 0 1 0 1 0 0 0 0 0 1 0 0 1 0 1 1 1\n",
      " 0 0 0 0 0 1 1 0 0 0 1 1 1 1 1 1 0 0 0 0 1 0 0 1 0 1 1 1 1 1 0 1 0 1 1 0 1\n",
      " 1 0 0 0 0 0 1 1 0 0 1 1 0 0 1 1 0 1 1 1 1 0 1 1 0 1 1 0 0 0 1 0 0 1 1 0 0\n",
      " 1 0 1 1 0 0 0 1 0 0 1 1 0 1 0 1 0 1 0 0 1 0 1 0 1 1 0 0 0 0 0 1 1 0 0 0 0\n",
      " 0 0 0 1 1 0 0 1 1 0 0 0 1 0 1 1 0 0 1 0 1 0 1 1 1 0 0 1 0 1 0 0 1 1 1 0 0\n",
      " 1 0 1 1 1 1 0 1 1 0 0 1 0 0 1 0 1 1 0 0 1 1 1 0 0 0 1 0 0 1 0 1 0 1 0 0 1\n",
      " 0 0 1 1 0 0 0 1 1 0 0 0 1 0 0 1 0 1 0 1 1 0 0 0 0 0 0 1 0 0 1 0 1 1 1 1 0\n",
      " 0 1 0 0 1 0 0 1 0 1 0 0 1 0 1 0 1 1 1 1 1 0 1 1 0 1 1 0 0 1 0 0 0 0 0 0 1\n",
      " 1 0 1 1 0 1 0 0 1 1 1 0 1 0 1 1 1 0 1 1 1 0 1 0 0 1 1 0 1 1 0 0 0 0 1 0 1\n",
      " 0 0 1 1 1 0 0 1 0 1 0 1 0 0 1 1 0 0 1 0 0 1 1 1 0 0 1 0 1 0 1 1 0 0 1 0 1\n",
      " 1 0 0 1 0 0 1 1 1 1 1 0 0 1 1 0 0 1 1 0 0 1 0 1 1 0 0 0 0 0 0 0 0 0 0 1 0\n",
      " 0 1 1 0 1 1 0 0 0 1 0 1 0 0 0 0 0 1 1 0 1 1 1 1 1 0 1 0 1 1 1 0 0 0 1 0 0\n",
      " 0 0 1 1 1 0 1 0 1 1 1 1 0 0 0]\n",
      "[[388   9]\n",
      " [ 39 356]]\n",
      "              precision    recall  f1-score   support\n",
      "\n",
      "           0       0.91      0.98      0.94       397\n",
      "           1       0.98      0.90      0.94       395\n",
      "\n",
      "    accuracy                           0.94       792\n",
      "   macro avg       0.94      0.94      0.94       792\n",
      "weighted avg       0.94      0.94      0.94       792\n",
      "\n",
      "**********************************************************************\n",
      "SVC\n",
      "Model Training Score 1.0\n",
      "Model Testing Score 1.0\n",
      "[0 1 0 0 1 1 0 1 0 0 0 1 1 0 0 1 0 0 1 1 1 0 0 0 0 1 0 0 0 0 0 0 1 0 1 1 1\n",
      " 1 1 0 0 0 1 1 0 1 1 1 0 0 1 0 1 0 1 0 0 1 0 0 0 1 1 0 0 0 0 0 0 1 1 0 1 0\n",
      " 1 0 0 1 0 0 1 0 0 0 0 0 0 0 0 1 0 0 1 1 1 1 1 1 0 0 0 1 1 0 0 0 0 1 0 0 1\n",
      " 0 1 1 0 1 0 1 1 0 1 0 1 1 1 0 0 1 1 0 1 0 0 1 0 0 0 0 0 0 0 1 0 0 0 1 1 0\n",
      " 0 1 0 1 0 0 0 0 0 0 0 1 0 0 1 0 1 1 1 0 1 0 0 0 0 0 0 0 1 0 0 0 0 1 1 1 1\n",
      " 0 1 1 0 0 0 0 1 1 1 0 0 1 1 1 0 1 0 0 0 1 1 0 0 0 1 0 0 0 1 1 1 0 0 1 1 1\n",
      " 0 1 1 0 1 0 0 1 1 0 1 1 1 0 0 0 1 0 0 1 0 1 0 0 1 1 0 0 1 1 1 1 1 1 1 1 1\n",
      " 1 1 1 0 0 0 0 1 1 1 1 0 1 0 1 1 1 1 1 1 0 0 1 1 0 1 1 1 1 1 0 0 0 0 1 0 1\n",
      " 1 0 1 1 1 1 1 1 0 0 1 1 0 1 1 1 1 1 1 1 1 0 0 1 1 0 1 1 1 1 1 0 0 1 1 1 0\n",
      " 0 1 1 0 1 1 0 1 0 0 0 1 0 0 0 1 1 1 1 0 0 1 0 1 0 0 0 0 1 1 0 0 1 1 1 1 1\n",
      " 0 0 0 0 0 1 1 0 1 0 1 1 1 1 1 1 0 0 0 0 0 0 0 1 0 1 1 1 1 1 0 1 0 1 1 0 1\n",
      " 1 0 0 0 0 0 1 1 0 0 0 1 1 0 1 1 0 1 1 1 1 0 1 1 0 1 1 0 0 0 1 0 0 1 1 0 0\n",
      " 1 0 1 1 1 0 0 1 0 1 1 1 0 1 0 1 0 1 0 0 1 1 1 0 0 1 0 0 0 0 0 1 1 0 0 0 0\n",
      " 0 0 0 1 1 0 0 1 1 0 0 0 1 0 1 1 0 0 1 0 1 0 1 1 1 0 0 1 0 1 0 0 1 0 1 0 0\n",
      " 1 0 1 1 1 1 0 1 1 0 0 1 0 0 1 0 1 1 0 0 1 1 1 0 0 0 1 0 0 1 0 1 0 1 0 0 1\n",
      " 0 0 1 1 0 0 0 1 1 0 0 0 1 0 0 1 0 1 0 1 1 0 0 0 0 1 0 1 0 1 1 1 1 1 1 1 0\n",
      " 1 1 0 0 1 1 0 1 0 1 0 0 1 0 1 0 1 1 1 1 1 0 1 1 0 1 1 0 0 1 0 0 0 0 0 0 1\n",
      " 1 0 1 1 1 1 0 0 1 1 1 0 1 0 1 1 1 0 1 1 1 0 1 0 0 1 1 0 1 1 0 0 0 0 1 1 1\n",
      " 0 0 1 1 1 0 0 1 0 1 0 1 0 0 1 1 0 0 1 0 0 1 1 1 0 0 1 0 1 0 1 1 0 0 1 0 1\n",
      " 1 0 0 1 0 0 1 1 1 1 1 1 0 1 1 0 0 1 1 0 0 1 0 1 1 0 0 0 0 0 0 0 1 0 1 1 0\n",
      " 0 1 1 0 1 1 0 0 0 1 0 1 0 0 0 0 0 1 1 0 1 1 1 1 1 0 1 0 1 1 1 0 1 0 1 0 0\n",
      " 0 0 1 1 1 0 1 0 1 1 1 1 0 0 0]\n",
      "[[397   0]\n",
      " [  0 395]]\n",
      "              precision    recall  f1-score   support\n",
      "\n",
      "           0       1.00      1.00      1.00       397\n",
      "           1       1.00      1.00      1.00       395\n",
      "\n",
      "    accuracy                           1.00       792\n",
      "   macro avg       1.00      1.00      1.00       792\n",
      "weighted avg       1.00      1.00      1.00       792\n",
      "\n",
      "**********************************************************************\n"
     ]
    }
   ],
   "source": [
    "###dictionary\n",
    "d={}\n",
    "for i in range(len(models)):\n",
    "    print(mnames[i])\n",
    "    models[i].fit(x_train,y_train)\n",
    "    mscore(models[i])\n",
    "    ypred = models[i].predict(x_test)\n",
    "    d[mnames[i]] = accuracy_score(y_test,ypred)\n",
    "    print(ypred)\n",
    "    gen_metrics(y_test,ypred)\n",
    "    print('*'*70)"
   ]
  },
  {
   "cell_type": "code",
   "execution_count": null,
   "id": "0d43aab4",
   "metadata": {},
   "outputs": [],
   "source": []
  },
  {
   "cell_type": "code",
   "execution_count": null,
   "id": "fe8b8815",
   "metadata": {},
   "outputs": [],
   "source": []
  }
 ],
 "metadata": {
  "kernelspec": {
   "display_name": "Python 3 (ipykernel)",
   "language": "python",
   "name": "python3"
  },
  "language_info": {
   "codemirror_mode": {
    "name": "ipython",
    "version": 3
   },
   "file_extension": ".py",
   "mimetype": "text/x-python",
   "name": "python",
   "nbconvert_exporter": "python",
   "pygments_lexer": "ipython3",
   "version": "3.9.7"
  }
 },
 "nbformat": 4,
 "nbformat_minor": 5
}
